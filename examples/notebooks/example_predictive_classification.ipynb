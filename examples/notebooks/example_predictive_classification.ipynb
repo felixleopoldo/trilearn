{
 "cells": [
  {
   "cell_type": "markdown",
   "metadata": {},
   "source": [
    "### Graphical Bayesian predictive classification"
   ]
  },
  {
   "cell_type": "markdown",
   "metadata": {},
   "source": [
    "Read classification dataset and compare to the existing classifiers. \n",
    "BayesPred is the standard Bayesian predictive classifier and GraphPred is the graphical predicitve classifier. "
   ]
  },
  {
   "cell_type": "code",
   "execution_count": 6,
   "metadata": {},
   "outputs": [],
   "source": [
    "import pandas as pd\n",
    "from sklearn.neural_network import MLPClassifier\n",
    "from sklearn.neighbors import KNeighborsClassifier\n",
    "from sklearn.svm import SVC\n",
    "from sklearn.gaussian_process import GaussianProcessClassifier\n",
    "from sklearn.gaussian_process.kernels import RBF\n",
    "from sklearn.tree import DecisionTreeClassifier\n",
    "from sklearn.ensemble import RandomForestClassifier, AdaBoostClassifier\n",
    "from sklearn.naive_bayes import GaussianNB\n",
    "from sklearn.discriminant_analysis import LinearDiscriminantAnalysis\n",
    "from sklearn.discriminant_analysis import QuadraticDiscriminantAnalysis\n",
    "from trilearn.graph_predictive import GraphPredictive\n",
    "from sklearn.model_selection import train_test_split\n",
    "names = [\"Nearest Neighbors\", \"Linear SVM\", \"RBF SVM\", \"Gaussian Process\",\n",
    "         \"Decision Tree\", \"Random Forest\", \"Neural Net\", \"AdaBoost\",\n",
    "         \"Naive Bayes\", \"LDA\", \"QDA\", \"BayesPred\", \"GraphPred\"]\n",
    "classifiers = [\n",
    "    KNeighborsClassifier(3),\n",
    "    SVC(kernel=\"linear\", C=0.025),\n",
    "    SVC(gamma=2, C=1),\n",
    "    GaussianProcessClassifier(1.0 * RBF(1.0), warm_start=True),\n",
    "    DecisionTreeClassifier(max_depth=5),\n",
    "    RandomForestClassifier(max_depth=5, n_estimators=10, max_features=1),\n",
    "    MLPClassifier(alpha=1),\n",
    "    AdaBoostClassifier(),\n",
    "    GaussianNB(),\n",
    "    LinearDiscriminantAnalysis(solver='lsqr', shrinkage='auto'),\n",
    "    QuadraticDiscriminantAnalysis(),\n",
    "    GraphPredictive(standard_bayes=True),\n",
    "    GraphPredictive(n_particles=100, n_pgibbs_samples=5)]"
   ]
  },
  {
   "cell_type": "code",
   "execution_count": 8,
   "metadata": {},
   "outputs": [
    {
     "name": "stdout",
     "output_type": "stream",
     "text": [
      "Nearest Neighbors 0.6666666666666666\n",
      "Linear SVM 0.5238095238095238\n",
      "RBF SVM 0.40476190476190477\n",
      "Gaussian Process 0.6666666666666666\n",
      "Decision Tree 0.47619047619047616\n",
      "Random Forest 0.5952380952380952\n",
      "Neural Net 0.7380952380952381\n",
      "AdaBoost 0.5476190476190477\n",
      "Naive Bayes 0.5476190476190477\n",
      "LDA 0.5952380952380952\n",
      "QDA 0.7619047619047619\n"
     ]
    },
    {
     "name": "stderr",
     "output_type": "stream",
     "text": [
      "Particle Gibbs samples:   0%|          | 0/5 [00:00<?, ?it/s]"
     ]
    },
    {
     "name": "stdout",
     "output_type": "stream",
     "text": [
      "BayesPred 0.7619047619047619\n"
     ]
    },
    {
     "name": "stderr",
     "output_type": "stream",
     "text": [
      "Particle Gibbs samples: 100%|██████████| 5/5 [00:07<00:00,  1.54s/it]\n",
      "Particle Gibbs samples: 100%|██████████| 5/5 [00:08<00:00,  1.65s/it]\n"
     ]
    },
    {
     "name": "stdout",
     "output_type": "stream",
     "text": [
      "GraphPred 0.8571428571428571\n"
     ]
    }
   ],
   "source": [
    "df_full = pd.read_csv(\"classification_full_dataset.csv\")\n",
    "\n",
    "x_train, x_test, y_train, y_test = train_test_split(df_full.drop([\"y\"], axis=1), df_full[\"y\"],\n",
    "                                                    test_size=0.3, random_state=1)\n",
    "# Comparison\n",
    "for name, clf in zip(names, classifiers):\n",
    "    clf.fit(x_train.get_values(), y_train.get_values())\n",
    "    print str(name) + \" \" + str(clf.score(x_test.get_values(),\n",
    "                                          y_test.get_values()))"
   ]
  }
 ],
 "metadata": {
  "kernelspec": {
   "display_name": "Python 2",
   "language": "python",
   "name": "python2"
  },
  "language_info": {
   "codemirror_mode": {
    "name": "ipython",
    "version": 2
   },
   "file_extension": ".py",
   "mimetype": "text/x-python",
   "name": "python",
   "nbconvert_exporter": "python",
   "pygments_lexer": "ipython2",
   "version": "2.7.10"
  }
 },
 "nbformat": 4,
 "nbformat_minor": 2
}
