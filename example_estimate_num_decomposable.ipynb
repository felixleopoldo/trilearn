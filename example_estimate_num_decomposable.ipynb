{
 "cells": [
  {
   "cell_type": "markdown",
   "metadata": {},
   "source": [
    "### Estimate the number of decomposable graphs using SMC"
   ]
  },
  {
   "cell_type": "code",
   "execution_count": 1,
   "metadata": {},
   "outputs": [],
   "source": [
    "import numpy as np\n",
    "import pandas as pd\n",
    "import seaborn as sns\n",
    "import matplotlib.pyplot as plt\n",
    "import trilearn.smc as smc\n",
    "sns.set()"
   ]
  },
  {
   "cell_type": "code",
   "execution_count": 2,
   "metadata": {},
   "outputs": [
    {
     "name": "stderr",
     "output_type": "stream",
     "text": [
      "Const estimates: 100%|██████████| 5/5 [00:20<00:00,  4.14s/it]\n"
     ]
    },
    {
     "data": {
      "text/plain": [
       "array([[1.00000000e+00, 2.00000000e+00, 8.02400000e+00, 6.23625280e+01,\n",
       "        8.23097600e+02, 1.70916603e+04, 7.18285243e+05, 3.27081139e+07,\n",
       "        2.26674987e+09, 2.18877679e+11, 3.31448463e+13, 6.90048509e+15,\n",
       "        1.99148719e+18, 8.14637820e+20, 2.67497603e+23, 1.50386571e+26,\n",
       "        7.35206965e+28, 5.77595590e+31, 5.83243009e+34, 7.65002545e+37],\n",
       "       [1.00000000e+00, 2.00000000e+00, 7.89200000e+00, 6.24204587e+01,\n",
       "        8.11415102e+02, 1.80093645e+04, 6.08076715e+05, 2.92104935e+07,\n",
       "        1.85059747e+09, 1.68498853e+11, 2.06661155e+13, 3.57209656e+15,\n",
       "        7.61272149e+17, 2.18067721e+20, 8.16587509e+22, 3.02921488e+25,\n",
       "        1.96027347e+28, 1.92039166e+31, 1.78779159e+34, 2.52317114e+37],\n",
       "       [1.00000000e+00, 2.00000000e+00, 7.85200000e+00, 6.26223173e+01,\n",
       "        7.77989055e+02, 1.80062294e+04, 6.02240336e+05, 2.93553980e+07,\n",
       "        2.01588398e+09, 1.76137102e+11, 2.35049555e+13, 4.03997319e+15,\n",
       "        8.47853807e+17, 2.14354858e+20, 9.03072049e+22, 4.38933161e+25,\n",
       "        3.17221142e+28, 2.94536274e+31, 4.04606579e+34, 6.59311055e+37],\n",
       "       [1.00000000e+00, 2.00000000e+00, 7.62000000e+00, 5.84657200e+01,\n",
       "        7.60100266e+02, 1.74027378e+04, 5.80113742e+05, 2.56401345e+07,\n",
       "        1.86921506e+09, 1.81616248e+11, 2.56253842e+13, 4.39973939e+15,\n",
       "        9.67936229e+17, 2.96056870e+20, 1.28078956e+23, 6.02806234e+25,\n",
       "        3.93798163e+28, 3.41558673e+31, 3.44224192e+34, 4.73929809e+37],\n",
       "       [1.00000000e+00, 2.00000000e+00, 7.89200000e+00, 6.22994480e+01,\n",
       "        7.73044777e+02, 1.66006885e+04, 5.38091664e+05, 2.73020086e+07,\n",
       "        1.77521918e+09, 1.91082081e+11, 2.43356327e+13, 3.87058229e+15,\n",
       "        9.73998178e+17, 2.97073957e+20, 1.21221726e+23, 5.71294772e+25,\n",
       "        3.50452028e+28, 3.69155268e+31, 7.70778935e+34, 1.12248865e+38]])"
      ]
     },
     "execution_count": 2,
     "metadata": {},
     "output_type": "execute_result"
    }
   ],
   "source": [
    "p = 20\n",
    "n_graphs = smc.est_n_dec_graphs(p, n_particles=1000,n_smc_estimates=5)\n",
    "n_graphs"
   ]
  },
  {
   "cell_type": "code",
   "execution_count": 3,
   "metadata": {},
   "outputs": [
    {
     "data": {
      "text/plain": [
       "array([1.00000000e+00, 2.00000000e+00, 7.85600000e+00, 6.16340944e+01,\n",
       "       7.89129360e+02, 1.74221361e+04, 6.09361540e+05, 2.88432297e+07,\n",
       "       1.95553311e+09, 1.87242393e+11, 2.54553869e+13, 4.55657530e+15,\n",
       "       1.10850951e+18, 3.68038245e+20, 1.37752848e+23, 6.83964272e+25,\n",
       "       3.98541129e+28, 3.54976994e+31, 4.56326375e+34, 6.54609836e+37])"
      ]
     },
     "execution_count": 3,
     "metadata": {},
     "output_type": "execute_result"
    }
   ],
   "source": [
    "n_graphs.mean(axis=0)"
   ]
  },
  {
   "cell_type": "code",
   "execution_count": 4,
   "metadata": {},
   "outputs": [
    {
     "ename": "",
     "evalue": "",
     "output_type": "error",
     "traceback": [
      "\u001b[1;31mThe Kernel crashed while executing code in the the current cell or a previous cell. Please review the code in the cell(s) to identify a possible cause of the failure. Click <a href='https://aka.ms/vscodeJupyterKernelCrash'>here</a> for more info. View Jupyter <a href='command:jupyter.viewOutput'>log</a> for further details."
     ]
    },
    {
     "ename": "",
     "evalue": "",
     "output_type": "error",
     "traceback": [
      "\u001b[1;31mThe Kernel crashed while executing code in the the current cell or a previous cell. Please review the code in the cell(s) to identify a possible cause of the failure. Click <a href='https://aka.ms/vscodeJupyterKernelCrash'>here</a> for more info. View Jupyter <a href='command:jupyter.viewOutput'>log</a> for further details."
     ]
    }
   ],
   "source": [
    "plt.semilogy(range(1, p+1), n_graphs.mean(axis=0));"
   ]
  }
 ],
 "metadata": {
  "kernelspec": {
   "display_name": "trilearn",
   "language": "python",
   "name": "python3"
  },
  "language_info": {
   "codemirror_mode": {
    "name": "ipython",
    "version": 3
   },
   "file_extension": ".py",
   "mimetype": "text/x-python",
   "name": "python",
   "nbconvert_exporter": "python",
   "pygments_lexer": "ipython3",
   "version": "3.11.4"
  }
 },
 "nbformat": 4,
 "nbformat_minor": 2
}
