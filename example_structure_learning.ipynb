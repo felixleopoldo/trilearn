{
 "cells": [
  {
   "cell_type": "markdown",
   "metadata": {},
   "source": [
    "## Structure learning in decomposable graphical models"
   ]
  },
  {
   "cell_type": "markdown",
   "metadata": {},
   "source": [
    "Two examples of the particle Gibbs sampler for Bayesian structure learning are shown in this section for both continuous and discrete data."
   ]
  },
  {
   "cell_type": "code",
   "execution_count": 2,
   "metadata": {},
   "outputs": [
    {
     "name": "stdout",
     "output_type": "stream",
     "text": [
      "The autoreload extension is already loaded. To reload it, use:\n",
      "  %reload_ext autoreload\n"
     ]
    }
   ],
   "source": [
    "%matplotlib inline\n",
    "\n",
    "import numpy as np\n",
    "import pandas as pd\n",
    "import networkx as nx\n",
    "import matplotlib.pyplot as plt\n",
    "from pandas.plotting import autocorrelation_plot\n",
    "import seaborn as sns\n",
    "\n",
    "from trilearn.graph import trajectory\n",
    "import trilearn.graph.graph as glib\n",
    "import trilearn.graph.decomposable as dlib\n",
    "import trilearn.distributions.g_intra_class as gic\n",
    "import trilearn.auxiliary_functions as aux\n",
    "from trilearn.distributions import discrete_dec_log_linear as loglin\n",
    "from trilearn import pgibbs\n",
    "sns.set_style(\"whitegrid\")\n",
    "\n",
    "%load_ext autoreload\n",
    "%autoreload 2"
   ]
  },
  {
   "cell_type": "markdown",
   "metadata": {},
   "source": [
    "### Discrete log-linear models"
   ]
  },
  {
   "cell_type": "markdown",
   "metadata": {},
   "source": [
    "The first two rows (i.e. index 0 and 1), of the file should specify the labels and the levels of the corresponding variables. "
   ]
  },
  {
   "cell_type": "markdown",
   "metadata": {},
   "source": [
    "#### Czech auto workers data"
   ]
  },
  {
   "cell_type": "code",
   "execution_count": 3,
   "metadata": {},
   "outputs": [],
   "source": [
    "aw_df = pd.read_csv(\"sample_data/czech_autoworkers.csv\", header=[0, 1]) "
   ]
  },
  {
   "cell_type": "code",
   "execution_count": 4,
   "metadata": {},
   "outputs": [
    {
     "data": {
      "text/html": [
       "<div>\n",
       "<style scoped>\n",
       "    .dataframe tbody tr th:only-of-type {\n",
       "        vertical-align: middle;\n",
       "    }\n",
       "\n",
       "    .dataframe tbody tr th {\n",
       "        vertical-align: top;\n",
       "    }\n",
       "\n",
       "    .dataframe thead tr th {\n",
       "        text-align: left;\n",
       "    }\n",
       "</style>\n",
       "<table border=\"1\" class=\"dataframe\">\n",
       "  <thead>\n",
       "    <tr>\n",
       "      <th></th>\n",
       "      <th>smoke</th>\n",
       "      <th>mental</th>\n",
       "      <th>phys</th>\n",
       "      <th>bloodp</th>\n",
       "      <th>lipo</th>\n",
       "      <th>coron</th>\n",
       "    </tr>\n",
       "    <tr>\n",
       "      <th></th>\n",
       "      <th>2</th>\n",
       "      <th>2</th>\n",
       "      <th>2</th>\n",
       "      <th>2</th>\n",
       "      <th>2</th>\n",
       "      <th>2</th>\n",
       "    </tr>\n",
       "  </thead>\n",
       "  <tbody>\n",
       "    <tr>\n",
       "      <th>0</th>\n",
       "      <td>1</td>\n",
       "      <td>1</td>\n",
       "      <td>1</td>\n",
       "      <td>0</td>\n",
       "      <td>0</td>\n",
       "      <td>0</td>\n",
       "    </tr>\n",
       "    <tr>\n",
       "      <th>1</th>\n",
       "      <td>1</td>\n",
       "      <td>1</td>\n",
       "      <td>1</td>\n",
       "      <td>0</td>\n",
       "      <td>0</td>\n",
       "      <td>0</td>\n",
       "    </tr>\n",
       "  </tbody>\n",
       "</table>\n",
       "</div>"
      ],
      "text/plain": [
       "  smoke mental phys bloodp lipo coron\n",
       "      2      2    2      2    2     2\n",
       "0     1      1    1      0    0     0\n",
       "1     1      1    1      0    0     0"
      ]
     },
     "execution_count": 4,
     "metadata": {},
     "output_type": "execute_result"
    }
   ],
   "source": [
    "aw_df.head(2)"
   ]
  },
  {
   "cell_type": "code",
   "execution_count": null,
   "metadata": {},
   "outputs": [],
   "source": []
  },
  {
   "cell_type": "code",
   "execution_count": 5,
   "metadata": {},
   "outputs": [
    {
     "data": {
      "text/plain": [
       "(1841, 6)"
      ]
     },
     "execution_count": 5,
     "metadata": {},
     "output_type": "execute_result"
    }
   ],
   "source": [
    "aw_df.shape"
   ]
  },
  {
   "cell_type": "code",
   "execution_count": 6,
   "metadata": {},
   "outputs": [
    {
     "name": "stderr",
     "output_type": "stream",
     "text": [
      "Particle Gibbs samples: 100%|██████████| 100/100 [00:02<00:00, 49.02it/s]\n"
     ]
    }
   ],
   "source": [
    "np.random.seed(1)\n",
    "aw_graph_traj = pgibbs.sample_trajectory_loglin(dataframe=aw_df, n_particles=20, n_samples=100, reset_cache=False)"
   ]
  },
  {
   "cell_type": "code",
   "execution_count": 7,
   "metadata": {},
   "outputs": [
    {
     "data": {
      "image/png": "[encoded data removed]",
      "text/plain": [
       "<Figure size 640x480 with 1 Axes>"
      ]
     },
     "metadata": {},
     "output_type": "display_data"
    }
   ],
   "source": [
    "aw_graph_traj.size().plot();\n",
    "plt.show()"
   ]
  },
  {
   "cell_type": "code",
   "execution_count": 8,
   "metadata": {},
   "outputs": [
    {
     "name": "stdout",
     "output_type": "stream",
     "text": [
      "   index                                              added removed  score\n",
      "0     -2  [smoke-mental;smoke-phys;smoke-bloodp;smoke-li...      []      0\n",
      "   index added                                            removed  score\n",
      "0     -1    []  [smoke-mental;smoke-phys;smoke-bloodp;smoke-li...      0\n"
     ]
    },
    {
     "data": {
      "text/html": [
       "<div>\n",
       "<style scoped>\n",
       "    .dataframe tbody tr th:only-of-type {\n",
       "        vertical-align: middle;\n",
       "    }\n",
       "\n",
       "    .dataframe tbody tr th {\n",
       "        vertical-align: top;\n",
       "    }\n",
       "\n",
       "    .dataframe thead th {\n",
       "        text-align: right;\n",
       "    }\n",
       "</style>\n",
       "<table border=\"1\" class=\"dataframe\">\n",
       "  <thead>\n",
       "    <tr style=\"text-align: right;\">\n",
       "      <th></th>\n",
       "      <th>index</th>\n",
       "      <th>added</th>\n",
       "      <th>removed</th>\n",
       "      <th>score</th>\n",
       "    </tr>\n",
       "  </thead>\n",
       "  <tbody>\n",
       "    <tr>\n",
       "      <th>0</th>\n",
       "      <td>-2</td>\n",
       "      <td>[smoke-mental;smoke-phys;smoke-bloodp;smoke-li...</td>\n",
       "      <td>[]</td>\n",
       "      <td>0.000000</td>\n",
       "    </tr>\n",
       "    <tr>\n",
       "      <th>0</th>\n",
       "      <td>-1</td>\n",
       "      <td>[]</td>\n",
       "      <td>[smoke-mental;smoke-phys;smoke-bloodp;smoke-li...</td>\n",
       "      <td>0.000000</td>\n",
       "    </tr>\n",
       "    <tr>\n",
       "      <th>0</th>\n",
       "      <td>0</td>\n",
       "      <td>[mental-phys;phys-coron;phys-smoke;phys-lipo;s...</td>\n",
       "      <td>[]</td>\n",
       "      <td>-6738.441168</td>\n",
       "    </tr>\n",
       "    <tr>\n",
       "      <th>0</th>\n",
       "      <td>4</td>\n",
       "      <td>[]</td>\n",
       "      <td>[]</td>\n",
       "      <td>-6738.441168</td>\n",
       "    </tr>\n",
       "    <tr>\n",
       "      <th>0</th>\n",
       "      <td>8</td>\n",
       "      <td>[]</td>\n",
       "      <td>[]</td>\n",
       "      <td>-6738.441168</td>\n",
       "    </tr>\n",
       "    <tr>\n",
       "      <th>0</th>\n",
       "      <td>14</td>\n",
       "      <td>[smoke-bloodp]</td>\n",
       "      <td>[]</td>\n",
       "      <td>-6737.226055</td>\n",
       "    </tr>\n",
       "    <tr>\n",
       "      <th>0</th>\n",
       "      <td>25</td>\n",
       "      <td>[lipo-coron]</td>\n",
       "      <td>[phys-coron]</td>\n",
       "      <td>-6735.801574</td>\n",
       "    </tr>\n",
       "    <tr>\n",
       "      <th>0</th>\n",
       "      <td>26</td>\n",
       "      <td>[]</td>\n",
       "      <td>[]</td>\n",
       "      <td>-6735.801574</td>\n",
       "    </tr>\n",
       "    <tr>\n",
       "      <th>0</th>\n",
       "      <td>29</td>\n",
       "      <td>[smoke-phys;lipo-phys]</td>\n",
       "      <td>[phys-lipo;phys-smoke]</td>\n",
       "      <td>-6735.801574</td>\n",
       "    </tr>\n",
       "    <tr>\n",
       "      <th>0</th>\n",
       "      <td>42</td>\n",
       "      <td>[phys-lipo;bloodp-coron]</td>\n",
       "      <td>[lipo-coron;lipo-phys]</td>\n",
       "      <td>-6736.741626</td>\n",
       "    </tr>\n",
       "    <tr>\n",
       "      <th>0</th>\n",
       "      <td>46</td>\n",
       "      <td>[phys-smoke;lipo-bloodp]</td>\n",
       "      <td>[smoke-phys;bloodp-coron]</td>\n",
       "      <td>-6733.331602</td>\n",
       "    </tr>\n",
       "    <tr>\n",
       "      <th>0</th>\n",
       "      <td>57</td>\n",
       "      <td>[lipo-coron]</td>\n",
       "      <td>[smoke-bloodp]</td>\n",
       "      <td>-6734.904059</td>\n",
       "    </tr>\n",
       "    <tr>\n",
       "      <th>0</th>\n",
       "      <td>66</td>\n",
       "      <td>[lipo-smoke]</td>\n",
       "      <td>[smoke-lipo]</td>\n",
       "      <td>-6734.904059</td>\n",
       "    </tr>\n",
       "    <tr>\n",
       "      <th>0</th>\n",
       "      <td>71</td>\n",
       "      <td>[]</td>\n",
       "      <td>[]</td>\n",
       "      <td>-6734.904059</td>\n",
       "    </tr>\n",
       "    <tr>\n",
       "      <th>0</th>\n",
       "      <td>72</td>\n",
       "      <td>[smoke-lipo]</td>\n",
       "      <td>[lipo-coron;lipo-smoke]</td>\n",
       "      <td>-6732.459258</td>\n",
       "    </tr>\n",
       "    <tr>\n",
       "      <th>0</th>\n",
       "      <td>78</td>\n",
       "      <td>[]</td>\n",
       "      <td>[]</td>\n",
       "      <td>-6732.459258</td>\n",
       "    </tr>\n",
       "    <tr>\n",
       "      <th>0</th>\n",
       "      <td>79</td>\n",
       "      <td>[lipo-smoke;bloodp-lipo]</td>\n",
       "      <td>[smoke-lipo;lipo-bloodp]</td>\n",
       "      <td>-6732.459258</td>\n",
       "    </tr>\n",
       "    <tr>\n",
       "      <th>0</th>\n",
       "      <td>81</td>\n",
       "      <td>[]</td>\n",
       "      <td>[]</td>\n",
       "      <td>-6732.459258</td>\n",
       "    </tr>\n",
       "    <tr>\n",
       "      <th>0</th>\n",
       "      <td>84</td>\n",
       "      <td>[smoke-bloodp;smoke-lipo;lipo-bloodp]</td>\n",
       "      <td>[lipo-smoke;bloodp-lipo]</td>\n",
       "      <td>-6733.331602</td>\n",
       "    </tr>\n",
       "    <tr>\n",
       "      <th>0</th>\n",
       "      <td>88</td>\n",
       "      <td>[]</td>\n",
       "      <td>[]</td>\n",
       "      <td>-6733.331602</td>\n",
       "    </tr>\n",
       "    <tr>\n",
       "      <th>0</th>\n",
       "      <td>89</td>\n",
       "      <td>[lipo-smoke;bloodp-lipo]</td>\n",
       "      <td>[smoke-bloodp;smoke-lipo;lipo-bloodp]</td>\n",
       "      <td>-6732.459258</td>\n",
       "    </tr>\n",
       "    <tr>\n",
       "      <th>0</th>\n",
       "      <td>93</td>\n",
       "      <td>[smoke-phys;phys-mental]</td>\n",
       "      <td>[phys-lipo;mental-phys;phys-smoke]</td>\n",
       "      <td>-6734.159232</td>\n",
       "    </tr>\n",
       "    <tr>\n",
       "      <th>0</th>\n",
       "      <td>95</td>\n",
       "      <td>[mental-phys;phys-smoke]</td>\n",
       "      <td>[smoke-phys;phys-mental]</td>\n",
       "      <td>-6734.159232</td>\n",
       "    </tr>\n",
       "  </tbody>\n",
       "</table>\n",
       "</div>"
      ],
      "text/plain": [
       "   index                                              added  \\\n",
       "0     -2  [smoke-mental;smoke-phys;smoke-bloodp;smoke-li...   \n",
       "0     -1                                                 []   \n",
       "0      0  [mental-phys;phys-coron;phys-smoke;phys-lipo;s...   \n",
       "0      4                                                 []   \n",
       "0      8                                                 []   \n",
       "0     14                                     [smoke-bloodp]   \n",
       "0     25                                       [lipo-coron]   \n",
       "0     26                                                 []   \n",
       "0     29                             [smoke-phys;lipo-phys]   \n",
       "0     42                           [phys-lipo;bloodp-coron]   \n",
       "0     46                           [phys-smoke;lipo-bloodp]   \n",
       "0     57                                       [lipo-coron]   \n",
       "0     66                                       [lipo-smoke]   \n",
       "0     71                                                 []   \n",
       "0     72                                       [smoke-lipo]   \n",
       "0     78                                                 []   \n",
       "0     79                           [lipo-smoke;bloodp-lipo]   \n",
       "0     81                                                 []   \n",
       "0     84              [smoke-bloodp;smoke-lipo;lipo-bloodp]   \n",
       "0     88                                                 []   \n",
       "0     89                           [lipo-smoke;bloodp-lipo]   \n",
       "0     93                           [smoke-phys;phys-mental]   \n",
       "0     95                           [mental-phys;phys-smoke]   \n",
       "\n",
       "                                             removed        score  \n",
       "0                                                 []     0.000000  \n",
       "0  [smoke-mental;smoke-phys;smoke-bloodp;smoke-li...     0.000000  \n",
       "0                                                 [] -6738.441168  \n",
       "0                                                 [] -6738.441168  \n",
       "0                                                 [] -6738.441168  \n",
       "0                                                 [] -6737.226055  \n",
       "0                                       [phys-coron] -6735.801574  \n",
       "0                                                 [] -6735.801574  \n",
       "0                             [phys-lipo;phys-smoke] -6735.801574  \n",
       "0                             [lipo-coron;lipo-phys] -6736.741626  \n",
       "0                          [smoke-phys;bloodp-coron] -6733.331602  \n",
       "0                                     [smoke-bloodp] -6734.904059  \n",
       "0                                       [smoke-lipo] -6734.904059  \n",
       "0                                                 [] -6734.904059  \n",
       "0                            [lipo-coron;lipo-smoke] -6732.459258  \n",
       "0                                                 [] -6732.459258  \n",
       "0                           [smoke-lipo;lipo-bloodp] -6732.459258  \n",
       "0                                                 [] -6732.459258  \n",
       "0                           [lipo-smoke;bloodp-lipo] -6733.331602  \n",
       "0                                                 [] -6733.331602  \n",
       "0              [smoke-bloodp;smoke-lipo;lipo-bloodp] -6732.459258  \n",
       "0                 [phys-lipo;mental-phys;phys-smoke] -6734.159232  \n",
       "0                           [smoke-phys;phys-mental] -6734.159232  "
      ]
     },
     "execution_count": 8,
     "metadata": {},
     "output_type": "execute_result"
    }
   ],
   "source": [
    "aw_graph_traj.graph_diff_trajectory_df(labels=[x[0] for x in aw_df.columns])\n"
   ]
  },
  {
   "cell_type": "code",
   "execution_count": 9,
   "metadata": {},
   "outputs": [
    {
     "data": {
      "image/png": "[encoded data removed]",
      "text/plain": [
       "<Figure size 640x480 with 1 Axes>"
      ]
     },
     "metadata": {},
     "output_type": "display_data"
    }
   ],
   "source": [
    "autocorrelation_plot(aw_graph_traj.size());\n",
    "plt.show()"
   ]
  },
  {
   "cell_type": "code",
   "execution_count": 10,
   "metadata": {},
   "outputs": [
    {
     "data": {
      "image/png": "[encoded data removed]",
      "text/plain": [
       "<Figure size 640x480 with 1 Axes>"
      ]
     },
     "metadata": {},
     "output_type": "display_data"
    }
   ],
   "source": [
    "aw_graph_traj.log_likelihood().plot();\n",
    "plt.show()"
   ]
  },
  {
   "cell_type": "code",
   "execution_count": 11,
   "metadata": {},
   "outputs": [
    {
     "data": {
      "image/png": "[encoded data removed]",
      "text/plain": [
       "<Figure size 640x480 with 1 Axes>"
      ]
     },
     "metadata": {},
     "output_type": "display_data"
    }
   ],
   "source": [
    "aux.plot_heatmap(aw_graph_traj.empirical_distribution().heatmap(), annot=True)\n",
    "plt.show()"
   ]
  },
  {
   "cell_type": "code",
   "execution_count": 12,
   "metadata": {},
   "outputs": [
    {
     "name": "stdout",
     "output_type": "stream",
     "text": [
      "Probability\tEdge list: \n",
      "0.12999999999999998\t\t[(0, 3), (0, 2), (0, 4), (4, 5), (4, 2), (1, 2)]\n",
      "0.10999999999999999\t\t[(1, 2), (2, 5), (2, 0), (2, 4), (0, 4), (0, 3)]\n",
      "0.10999999999999999\t\t[(1, 2), (2, 0), (2, 4), (0, 4), (0, 3), (4, 3)]\n",
      "0.09999999999999999\t\t[(1, 2), (2, 5), (2, 0), (2, 4), (0, 4)]\n",
      "0.09\t\t[(1, 2), (2, 0), (2, 4), (0, 4), (4, 5), (4, 3)]\n"
     ]
    }
   ],
   "source": [
    "aw_top = aw_graph_traj.empirical_distribution().mode(5)\n",
    "print(\"Probability\\tEdge list: \")\n",
    "for graph, prob in aw_top:\n",
    "    print(str(prob)+ \"\\t\\t\"  + str(list(graph.edges())))"
   ]
  },
  {
   "cell_type": "code",
   "execution_count": 13,
   "metadata": {},
   "outputs": [],
   "source": [
    "aw_mapgraph = aw_graph_traj.empirical_distribution().mode(1)[0][0]"
   ]
  },
  {
   "cell_type": "code",
   "execution_count": 14,
   "metadata": {},
   "outputs": [
    {
     "data": {
      "image/png": "[encoded data removed]",
      "text/plain": [
       "<Figure size 640x480 with 1 Axes>"
      ]
     },
     "metadata": {},
     "output_type": "display_data"
    }
   ],
   "source": [
    "nx.draw(aw_mapgraph, with_labels=True)\n",
    "plt.show()"
   ]
  },
  {
   "cell_type": "markdown",
   "metadata": {},
   "source": [
    "### Gaussian graphical models (GGMs)"
   ]
  },
  {
   "cell_type": "markdown",
   "metadata": {},
   "source": [
    "#### Simualted AR(1-5)-model"
   ]
  },
  {
   "cell_type": "code",
   "execution_count": 15,
   "metadata": {},
   "outputs": [
    {
     "ename": "AttributeError",
     "evalue": "module 'networkx' has no attribute 'from_numpy_matrix'",
     "output_type": "error",
     "traceback": [
      "\u001b[0;31m---------------------------------------------------------------------------\u001b[0m",
      "\u001b[0;31mAttributeError\u001b[0m                            Traceback (most recent call last)",
      "Cell \u001b[0;32mIn[15], line 2\u001b[0m\n\u001b[1;32m      1\u001b[0m np\u001b[39m.\u001b[39mrandom\u001b[39m.\u001b[39mseed(\u001b[39m2\u001b[39m) \u001b[39m# generates same data as in the paper\u001b[39;00m\n\u001b[0;32m----> 2\u001b[0m ar_graph \u001b[39m=\u001b[39m dlib\u001b[39m.\u001b[39;49msample_random_AR_graph(n_dim\u001b[39m=\u001b[39;49m\u001b[39m50\u001b[39;49m, max_bandwidth\u001b[39m=\u001b[39;49m\u001b[39m5\u001b[39;49m)\n\u001b[1;32m      3\u001b[0m aux\u001b[39m.\u001b[39mplot_heatmap(nx\u001b[39m.\u001b[39mto_numpy_array(ar_graph))\n\u001b[1;32m      4\u001b[0m ar_cov_mat \u001b[39m=\u001b[39m gic\u001b[39m.\u001b[39mcov_matrix(ar_graph, \u001b[39m0.9\u001b[39m, \u001b[39m1.0\u001b[39m)\n",
      "File \u001b[0;32m~/git/trilearn/trilearn/graph/decomposable.py:310\u001b[0m, in \u001b[0;36msample_random_AR_graph\u001b[0;34m(n_dim, max_bandwidth)\u001b[0m\n\u001b[1;32m    307\u001b[0m         adjmat[i, i \u001b[39m+\u001b[39m j \u001b[39m+\u001b[39m \u001b[39m1\u001b[39m] \u001b[39m=\u001b[39m \u001b[39m1\u001b[39m\n\u001b[1;32m    308\u001b[0m         adjmat[i \u001b[39m+\u001b[39m j \u001b[39m+\u001b[39m \u001b[39m1\u001b[39m, i] \u001b[39m=\u001b[39m \u001b[39m1\u001b[39m\n\u001b[0;32m--> 310\u001b[0m graph \u001b[39m=\u001b[39m nx\u001b[39m.\u001b[39;49mfrom_numpy_matrix(adjmat)\n\u001b[1;32m    312\u001b[0m \u001b[39mreturn\u001b[39;00m graph\n",
      "\u001b[0;31mAttributeError\u001b[0m: module 'networkx' has no attribute 'from_numpy_matrix'"
     ]
    }
   ],
   "source": [
    "np.random.seed(2) # generates same data as in the paper\n",
    "ar_graph = dlib.sample_random_AR_graph(n_dim=50, max_bandwidth=5)\n",
    "aux.plot_heatmap(nx.to_numpy_array(ar_graph))\n",
    "ar_cov_mat = gic.cov_matrix(ar_graph, 0.9, 1.0)\n",
    "ar_df = pd.DataFrame(np.random.multivariate_normal(np.zeros(50), ar_cov_mat, 100))"
   ]
  },
  {
   "cell_type": "code",
   "execution_count": null,
   "metadata": {},
   "outputs": [],
   "source": [
    "ar_df.shape"
   ]
  },
  {
   "cell_type": "code",
   "execution_count": null,
   "metadata": {},
   "outputs": [],
   "source": [
    "ar_df.head(5)"
   ]
  },
  {
   "cell_type": "code",
   "execution_count": null,
   "metadata": {},
   "outputs": [],
   "source": [
    "nx.draw(ar_graph, with_labels=True)"
   ]
  },
  {
   "cell_type": "code",
   "execution_count": null,
   "metadata": {},
   "outputs": [],
   "source": [
    "np.random.seed(1)"
   ]
  },
  {
   "cell_type": "code",
   "execution_count": null,
   "metadata": {},
   "outputs": [],
   "source": [
    "ar_graph_traj_seed1 = pgibbs.sample_trajectory_ggm(dataframe=ar_df, n_particles=50, alpha=0.5, beta=0.8, radius=5, n_samples=5000, reset_cache=True)"
   ]
  },
  {
   "cell_type": "code",
   "execution_count": null,
   "metadata": {},
   "outputs": [],
   "source": [
    "ar_graph_traj_seed1.size().plot();"
   ]
  },
  {
   "cell_type": "code",
   "execution_count": null,
   "metadata": {},
   "outputs": [],
   "source": [
    "aux.plot_heatmap(ar_graph_traj_seed1.empirical_distribution(4500).heatmap(), xticklabels=5, yticklabels=5 )"
   ]
  },
  {
   "cell_type": "code",
   "execution_count": null,
   "metadata": {},
   "outputs": [],
   "source": [
    "ar_graph_traj_seed1.logl =[]\n",
    "ar_graph_traj_seed1.log_likelihood(0).plot();"
   ]
  },
  {
   "cell_type": "code",
   "execution_count": null,
   "metadata": {},
   "outputs": [],
   "source": [
    "ar_graph_traj = pgibbs.sample_trajectory_ggm(dataframe=ar_df, n_particles=50, alpha=0.5, beta=0.8, radius=5, n_samples=5000, reset_cache=True)"
   ]
  },
  {
   "cell_type": "code",
   "execution_count": null,
   "metadata": {},
   "outputs": [],
   "source": [
    "ar_graph_traj.size().plot();"
   ]
  },
  {
   "cell_type": "code",
   "execution_count": null,
   "metadata": {},
   "outputs": [],
   "source": [
    "autocorrelation_plot(ar_graph_traj.size());"
   ]
  },
  {
   "cell_type": "code",
   "execution_count": null,
   "metadata": {},
   "outputs": [],
   "source": [
    "nx.draw(ar_mapgraph, with_labels=True)"
   ]
  },
  {
   "cell_type": "markdown",
   "metadata": {},
   "source": [
    "### Simulated 15 nodes log-linear model"
   ]
  },
  {
   "cell_type": "code",
   "execution_count": null,
   "metadata": {},
   "outputs": [],
   "source": [
    "loglin_graph = nx.Graph()\n",
    "loglin_graph.add_nodes_from(range(15))\n",
    "loglin_graph.add_edges_from([(0, 11), (0, 7), (1, 8), (1, 6), (2, 4), (3, 8), (3, 9),\n",
    "                             (3, 10), (3, 4), (3, 6), (4, 6), (4, 8), (4, 9), (4, 10),\n",
    "                             (5, 10), (5, 6), (6, 8), (6, 9), (6, 10), (7, 11), (8, 9),\n",
    "                             (8, 10), (8, 11), (9, 10), (10, 11), (12, 13)])"
   ]
  },
  {
   "cell_type": "code",
   "execution_count": null,
   "metadata": {},
   "outputs": [],
   "source": [
    "aux.plot_heatmap(nx.to_numpy_array(loglin_graph))"
   ]
  },
  {
   "cell_type": "code",
   "execution_count": null,
   "metadata": {},
   "outputs": [],
   "source": [
    "nx.draw(loglin_graph, with_labels=True)"
   ]
  },
  {
   "cell_type": "code",
   "execution_count": null,
   "metadata": {},
   "outputs": [],
   "source": [
    "np.random.seed(1)\n",
    "levels = np.array([range(2)] * loglin_graph.order())\n",
    "table = loglin.sample_prob_table(loglin_graph, levels, 1.0)"
   ]
  },
  {
   "cell_type": "code",
   "execution_count": null,
   "metadata": {},
   "outputs": [],
   "source": [
    "np.random.seed(5)\n",
    "loglin_df = pd.DataFrame(loglin.sample(table, 1000))\n",
    "loglin_df.columns = [range(loglin_graph.order()), [len(l) for l in levels]]"
   ]
  },
  {
   "cell_type": "code",
   "execution_count": null,
   "metadata": {},
   "outputs": [],
   "source": [
    "loglin_df.head()"
   ]
  },
  {
   "cell_type": "code",
   "execution_count": null,
   "metadata": {},
   "outputs": [],
   "source": [
    "loglin_df.shape"
   ]
  },
  {
   "cell_type": "code",
   "execution_count": null,
   "metadata": {},
   "outputs": [],
   "source": [
    "loglin_graph_traj = pgibbs.sample_trajectory_loglin(dataframe=loglin_df, n_particles=100, alpha=0.2, beta=0.8, n_samples=10000, \n",
    "                                                    reset_cache=True)"
   ]
  },
  {
   "cell_type": "code",
   "execution_count": null,
   "metadata": {},
   "outputs": [],
   "source": [
    "loglin_graph_traj.size().plot();"
   ]
  },
  {
   "cell_type": "code",
   "execution_count": null,
   "metadata": {},
   "outputs": [],
   "source": [
    "autocorrelation_plot(loglin_graph_traj.size());"
   ]
  },
  {
   "cell_type": "code",
   "execution_count": null,
   "metadata": {},
   "outputs": [],
   "source": [
    "loglin_graph_traj.log_likelihood().plot();"
   ]
  },
  {
   "cell_type": "code",
   "execution_count": null,
   "metadata": {},
   "outputs": [],
   "source": [
    "aux.plot_heatmap(loglin_graph_traj.empirical_distribution(5).heatmap())"
   ]
  },
  {
   "cell_type": "code",
   "execution_count": null,
   "metadata": {},
   "outputs": [],
   "source": [
    "loglin_mapgraph = loglin_graph_traj.empirical_distribution().mode(1)[0][0]\n",
    "aux.plot_heatmap(nx.to_numpy_array(loglin_mapgraph))"
   ]
  },
  {
   "cell_type": "code",
   "execution_count": null,
   "metadata": {},
   "outputs": [],
   "source": [
    "nx.draw(loglin_mapgraph, with_labels=True)"
   ]
  }
 ],
 "metadata": {
  "kernelspec": {
   "display_name": "trilearn",
   "language": "python",
   "name": "python3"
  },
  "language_info": {
   "codemirror_mode": {
    "name": "ipython",
    "version": 3
   },
   "file_extension": ".py",
   "mimetype": "text/x-python",
   "name": "python",
   "nbconvert_exporter": "python",
   "pygments_lexer": "ipython3",
   "version": "3.11.4"
  }
 },
 "nbformat": 4,
 "nbformat_minor": 2
}
