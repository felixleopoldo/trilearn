{
 "cells": [
  {
   "cell_type": "code",
   "execution_count": 1,
   "metadata": {},
   "outputs": [],
   "source": [
    "%load_ext autoreload\n",
    "%autoreload 2\n",
    "import numpy as np\n",
    "import pandas as pd\n",
    "import networkx as nx\n",
    "import time\n",
    "import matplotlib.pyplot as plt\n",
    "import trilearn.graph.graph as glib\n",
    "import itertools as its\n",
    "import trilearn.graph.junction_tree as jtlib\n",
    "import trilearn.graph.decomposable as dlib\n",
    "import trilearn.mh_greenthomas as gt\n",
    "import copy"
   ]
  },
  {
   "cell_type": "code",
   "execution_count": 5,
   "metadata": {},
   "outputs": [],
   "source": [
    "def powerset(iterable):\n",
    "    \"powerset([1,2,3]) --> () (1,) (2,) (3,) (1,2) (1,3) (2,3) (1,2,3)\"\n",
    "    s = list(iterable)\n",
    "    return its.chain.from_iterable(its.combinations(s, r) for r in range(len(s)+1))\n",
    "\n",
    "def edges_powerset(p):\n",
    "    \"return all graphs of size p\"\n",
    "    return list(its.combinations(list(range(p)), 2))\n",
    "\n",
    "\n",
    "def hash_graph(G):\n",
    "    \"hashing a graph by ordering the edge set\"\n",
    "    ed = [tuple(sorted(e)) for e in G.edges()]\n",
    "    return hash(str(sorted(ed)))\n",
    "\n",
    "\n",
    "def count_decomposable_graphs(size, traj, decomp_index_table):\n",
    "    \"counting the number of decomposable graphs\"\n",
    "    p = size\n",
    "    graph_dict = copy.deepcopy(decomp_index_table)\n",
    "    prev_hash = None # to remove repeated graph, where no traj changes\n",
    "    for g in traj:\n",
    "        if not g:\n",
    "            continue\n",
    "        b = hash_graph(g)\n",
    "        if b == prev_hash:\n",
    "            continue\n",
    "        prev_hash = b\n",
    "        c = graph_dict[b]['count']\n",
    "        graph_dict[b]['count'] = 1 + c\n",
    "                                \n",
    "    return graph_dict\n",
    "\n",
    "\n",
    "def pdf_plot(x):\n",
    "    \"plotting the probability density function\"\n",
    "    a = float(np.sum(x))\n",
    "    b = np.cumsum(x)\n",
    "    ax = pd.Series(b/a).plot(label='empirical')\n",
    "    plt.plot([0, 1], [0, 1], transform=ax.transAxes, label='theoratical')\n",
    "    plt.xlabel(\"Decomposable graphs (ordered from highest by no. junction trees)\")\n",
    "    plt.ylabel(\"Cumulative probability\")\n",
    "\n",
    "\n",
    "    \n",
    "def filter_decomposable_graphs(graphs, graph_size):\n",
    "    \"\"\" returns decomposable graphs out of powerset of graphs \n",
    "        and numer of junction trees per graph\n",
    "    \"\"\"\n",
    "    decomp = dict()\n",
    "    \n",
    "    for a in graphs:\n",
    "        a = list(a)\n",
    "        G = nx.Graph()\n",
    "        G.add_nodes_from(range(graph_size))\n",
    "        G.add_edges_from(a)\n",
    "        if nx.is_chordal(G): \n",
    "            b = hash_graph(G)\n",
    "            n_jt = dlib.n_junction_trees(G)\n",
    "            decomp[b] = {'count': 0, 'nedges': G.size(),\n",
    "                         'g': a,\n",
    "                         'n_jt':\n",
    "                         n_jt, 'nnodes': graph_size}\n",
    "        G.clear()\n",
    "    return decomp\n",
    "\n"
   ]
  },
  {
   "cell_type": "markdown",
   "metadata": {},
   "source": [
    "## Generating index table of decomposbale graphs of fixed size"
   ]
  },
  {
   "cell_type": "code",
   "execution_count": 3,
   "metadata": {},
   "outputs": [
    {
     "name": "stdout",
     "output_type": "stream",
     "text": [
      "#.all graph 32768, #.decomp graphs 18154 of 6 nodes\n",
      "time took 18.19sec\n"
     ]
    }
   ],
   "source": [
    "tic = time.time()\n",
    "graph_size = 6\n",
    "all_edges = edges_powerset(graph_size)\n",
    "all_graphs_of_size_p = list(powerset(all_edges))\n",
    "decomp_table = filter_decomposable_graphs(all_graphs_of_size_p, graph_size)\n",
    "print(\"#.all graph {}, #.decomp graphs {} of {} nodes\".format(len(all_graphs_of_size_p), \n",
    "                                                              len(decomp_table), \n",
    "                                                              graph_size))\n",
    "toc = time.time()\n",
    "print('time took {:.2f}sec'.format(toc - tic))"
   ]
  },
  {
   "cell_type": "code",
   "execution_count": 4,
   "metadata": {},
   "outputs": [
    {
     "name": "stderr",
     "output_type": "stream",
     "text": [
      "Metropolis-Hastings samples: 100%|██████████| 99999/99999 [00:42<00:00, 2327.34it/s]\n"
     ]
    },
    {
     "name": "stdout",
     "output_type": "stream",
     "text": [
      "time took 42.98sec\n"
     ]
    },
    {
     "data": {
      "image/png": "[encoded data removed]",
      "text/plain": [
       "<Figure size 432x288 with 1 Axes>"
      ]
     },
     "metadata": {
      "needs_background": "light"
     },
     "output_type": "display_data"
    }
   ],
   "source": [
    "n_samples = 100000\n",
    "randomize = 100\n",
    "graph_size = 6\n",
    "tic = time.time()\n",
    "np.random.seed(2)\n",
    "traj = gt.sample_trajectory_uniform(n_samples=n_samples,randomize=randomize, graph_size=graph_size)\n",
    "toc = time.time()                     \n",
    "print('time took {:.2f}sec'.format(toc - tic))    \n",
    "gt_count = count_decomposable_graphs(graph_size, \n",
    "                                     traj.trajectory,\n",
    "                                     decomp_table)\n",
    "df = pd.DataFrame.from_dict(gt_count,orient='index').sort_values(by = 'n_jt', ascending=False)\n",
    "pdf_plot(df['count'].values)"
   ]
  },
  {
   "cell_type": "code",
   "execution_count": null,
   "metadata": {},
   "outputs": [],
   "source": []
  }
 ],
 "metadata": {
  "kernelspec": {
   "display_name": "Python 2",
   "language": "python",
   "name": "python2"
  },
  "language_info": {
   "codemirror_mode": {
    "name": "ipython",
    "version": 2
   },
   "file_extension": ".py",
   "mimetype": "text/x-python",
   "name": "python",
   "nbconvert_exporter": "python",
   "pygments_lexer": "ipython2",
   "version": "2.7.16"
  }
 },
 "nbformat": 4,
 "nbformat_minor": 2
}
